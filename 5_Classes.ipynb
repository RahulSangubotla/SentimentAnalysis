{
  "cells": [
    {
      "cell_type": "code",
      "execution_count": 1,
      "metadata": {},
      "outputs": [
        {
          "name": "stdout",
          "output_type": "stream",
          "text": [
            "WARNING:tensorflow:From c:\\Workplace\\Python\\SA\\sa\\Lib\\site-packages\\keras\\src\\losses.py:2976: The name tf.losses.sparse_softmax_cross_entropy is deprecated. Please use tf.compat.v1.losses.sparse_softmax_cross_entropy instead.\n",
            "\n"
          ]
        }
      ],
      "source": [
        "import re\n",
        "import string\n",
        "import pandas as pd\n",
        "import numpy as np\n",
        "import matplotlib.pyplot as plt\n",
        "import shutil\n",
        "import tensorflow as tf\n",
        "from keras import layers\n",
        "from keras import losses"
      ]
    },
    {
      "cell_type": "code",
      "execution_count": 2,
      "metadata": {
        "id": "8vh3g5PbEcCS"
      },
      "outputs": [],
      "source": [
        "np.set_printoptions(precision=3, suppress=True)\n",
        "#Preprocess Datsets\n",
        "def preprocess(ratings):\n",
        "  ratings_features=ratings.copy()\n",
        "  ratings_labels=ratings_features.pop(\"reviews.rating\")\n",
        "  inputs={}\n",
        "  for name, column in ratings_features.items():\n",
        "    dtype = column.dtype\n",
        "    if dtype == object:\n",
        "      dtype = tf.string\n",
        "    else:\n",
        "      dtype = tf.float32\n",
        "\n",
        "    inputs[name] = tf.keras.Input(shape=(1,), name=name, dtype=dtype)\n",
        "\n",
        "\n",
        "  preprocessed_inputs = []\n",
        "  for name, input in inputs.items():\n",
        "    if input.dtype == tf.float32:\n",
        "      continue\n",
        "    lookup = layers.StringLookup(vocabulary=np.unique(ratings_features[name]))\n",
        "    one_hot = layers.CategoryEncoding(num_tokens=lookup.vocabulary_size())\n",
        "\n",
        "    x = lookup(input)\n",
        "    x = one_hot(x)\n",
        "    preprocessed_inputs.append(x)\n",
        "    preprocessed_inputs_cat = layers.Concatenate()(preprocessed_inputs)\n",
        "\n",
        "  ratings_preprocessing = tf.keras.Model(inputs, preprocessed_inputs_cat)\n",
        "  ratings_features_l=[]\n",
        "  for name, value in ratings_features.items():\n",
        "    ratings_features_l.append(np.array(value))\n",
        "  ratings_features_dict = {name: np.array(value)\n",
        "                            for name, value in ratings_features.items()}\n",
        "  ratings_features_l=np.array(ratings_features_dict['reviews.text'])\n",
        "  features_l=[ratings_features_dict['reviews.text'][:1]]\n",
        "  ratings_preprocessing(features_l)\n",
        "  def ratings_model(preprocessing_head, inputs):\n",
        "    body = tf.keras.Sequential([\n",
        "      layers.Dense(64),\n",
        "      layers.Dense(5)\n",
        "    ])\n",
        "\n",
        "    preprocessed_inputs = preprocessing_head(inputs)\n",
        "    result = body(preprocessed_inputs)\n",
        "    model = tf.keras.Model(inputs, result)\n",
        "\n",
        "    model.compile(loss= tf.keras.losses.MeanSquaredError(),\n",
        "                  optimizer=tf.keras.optimizers.Adam())\n",
        "    return model\n",
        "\n",
        "  ratings_model = ratings_model(ratings_preprocessing, inputs)\n",
        "  #ratings_model.fit(x=ratings_features_l, y=ratings_labels, epochs=10)\n",
        "  ratings_ds = tf.data.Dataset.from_tensor_slices((ratings_features_l, ratings_labels))\n",
        "  train_ds = ratings_ds.shuffle(len(ratings_labels)).batch(32)\n",
        "  ratings_model.fit(train_ds, epochs=5)\n",
        "\n",
        "\n",
        "  return train_ds\n",
        "\n",
        "\n"
      ]
    },
    {
      "cell_type": "code",
      "execution_count": 12,
      "metadata": {},
      "outputs": [
        {
          "name": "stdout",
          "output_type": "stream",
          "text": [
            "Epoch 1/5\n",
            "938/938 [==============================] - 8s 8ms/step - loss: 2.2710\n",
            "Epoch 2/5\n",
            "938/938 [==============================] - 7s 8ms/step - loss: 1.1619\n",
            "Epoch 3/5\n",
            "938/938 [==============================] - 7s 8ms/step - loss: 0.2119\n",
            "Epoch 4/5\n",
            "938/938 [==============================] - 8s 8ms/step - loss: 0.1459\n",
            "Epoch 5/5\n",
            "938/938 [==============================] - 8s 9ms/step - loss: 0.0895\n"
          ]
        }
      ],
      "source": [
        "#Training Dataset\n",
        "ratings_train = pd.read_csv(\"train_1.csv\")\n",
        "raw_train_ds=preprocess(ratings_train)"
      ]
    },
    {
      "cell_type": "code",
      "execution_count": 13,
      "metadata": {},
      "outputs": [
        {
          "name": "stdout",
          "output_type": "stream",
          "text": [
            "Epoch 1/5\n",
            "923/923 [==============================] - 9s 8ms/step - loss: 2.2106\n",
            "Epoch 2/5\n",
            "923/923 [==============================] - 6s 6ms/step - loss: 1.1778\n",
            "Epoch 3/5\n",
            "923/923 [==============================] - 6s 7ms/step - loss: 0.2172\n",
            "Epoch 4/5\n",
            "923/923 [==============================] - 7s 7ms/step - loss: 0.1434\n",
            "Epoch 5/5\n",
            "923/923 [==============================] - 6s 7ms/step - loss: 0.0903\n"
          ]
        }
      ],
      "source": [
        "#Testing Dataset\n",
        "ratings_test=pd.read_csv('test_1.csv')\n",
        "raw_test_ds=preprocess(ratings_test)"
      ]
    },
    {
      "cell_type": "code",
      "execution_count": 14,
      "metadata": {},
      "outputs": [
        {
          "name": "stdout",
          "output_type": "stream",
          "text": [
            "Epoch 1/5\n",
            "185/185 [==============================] - 1s 4ms/step - loss: 3.2245\n",
            "Epoch 2/5\n",
            "185/185 [==============================] - 1s 3ms/step - loss: 1.7080\n",
            "Epoch 3/5\n",
            "185/185 [==============================] - 1s 3ms/step - loss: 1.2537\n",
            "Epoch 4/5\n",
            "185/185 [==============================] - 1s 3ms/step - loss: 0.6870\n",
            "Epoch 5/5\n",
            "185/185 [==============================] - 1s 3ms/step - loss: 0.2239\n"
          ]
        }
      ],
      "source": [
        "#Validation Dataset\n",
        "ratings_val=pd.read_csv(\"val_1.csv\")\n",
        "raw_val_ds=preprocess(ratings_val)"
      ]
    },
    {
      "cell_type": "code",
      "execution_count": 15,
      "metadata": {
        "colab": {
          "base_uri": "https://localhost:8080/"
        },
        "id": "axgEo5Upa_i2",
        "outputId": "ac703392-45ab-4851-a0a8-43dd26001459"
      },
      "outputs": [],
      "source": [
        "#Loading The Preprocessed Datasets\n",
        "raw_train_ds = tf.data.Dataset.load('raw_train_ds.tfds')\n",
        "raw_val_ds = tf.data.Dataset.load('raw_val_ds.tfds')\n",
        "raw_test_ds = tf.data.Dataset.load('raw_test_ds.tfds')"
      ]
    },
    {
      "cell_type": "code",
      "execution_count": 16,
      "metadata": {
        "id": "roUecSljvw3q"
      },
      "outputs": [],
      "source": [
        "def custom_standardization(input_data):\n",
        "  lowercase = tf.strings.lower(input_data)\n",
        "  stripped_html = tf.strings.regex_replace(lowercase, '<br />', ' ')\n",
        "  return tf.strings.regex_replace(stripped_html,\n",
        "                                  '[%s]' % re.escape(string.punctuation),\n",
        "                                  '')\n",
        "max_features = 10000\n",
        "sequence_length = 250\n",
        "\n",
        "vectorize_layer = tf.keras.layers.TextVectorization(\n",
        "    standardize='lower_and_strip_punctuation',\n",
        "    max_tokens=max_features,\n",
        "    output_mode='int',\n",
        "    output_sequence_length=sequence_length)\n",
        "train_text = raw_train_ds.map(lambda x, y: x)\n",
        "vectorize_layer.adapt(train_text)\n",
        "def vectorize_text(text, label):\n",
        "  text = tf.expand_dims(text, -1)\n",
        "  return vectorize_layer(text), label\n",
        "#Declaring the model\n",
        "embedding_dim = 16\n",
        "model = tf.keras.Sequential([\n",
        "  vectorize_layer,\n",
        "  layers.Embedding(max_features + 1, embedding_dim),\n",
        "  layers.Dropout(0.2),\n",
        "  layers.GlobalAveragePooling1D(),\n",
        "  layers.Dropout(0.2),\n",
        "  layers.Dense(5,activation='softmax')])\n",
        "model.compile(loss=tf.keras.losses.SparseCategoricalCrossentropy(from_logits=False),optimizer='adam',metrics=['accuracy'])\n",
        "\n"
      ]
    },
    {
      "cell_type": "code",
      "execution_count": 5,
      "metadata": {
        "colab": {
          "base_uri": "https://localhost:8080/"
        },
        "id": "QihcJLbndycz",
        "outputId": "5555a395-0afb-4aef-f796-5ef4754693ac"
      },
      "outputs": [
        {
          "name": "stdout",
          "output_type": "stream",
          "text": [
            "Epoch 1/10\n",
            "WARNING:tensorflow:From c:\\Workplace\\Python\\SA\\sa\\Lib\\site-packages\\keras\\src\\engine\\base_layer_utils.py:384: The name tf.executing_eagerly_outside_functions is deprecated. Please use tf.compat.v1.executing_eagerly_outside_functions instead.\n",
            "\n",
            "938/938 [==============================] - 7s 7ms/step - loss: 1.5963 - accuracy: 0.2497 - val_loss: 1.5935 - val_accuracy: 0.2354\n",
            "Epoch 2/10\n",
            "938/938 [==============================] - 4s 5ms/step - loss: 1.5513 - accuracy: 0.3027 - val_loss: 1.5305 - val_accuracy: 0.2882\n",
            "Epoch 3/10\n",
            "938/938 [==============================] - 5s 6ms/step - loss: 1.4800 - accuracy: 0.3479 - val_loss: 1.4684 - val_accuracy: 0.3165\n",
            "Epoch 4/10\n",
            "938/938 [==============================] - 7s 7ms/step - loss: 1.4213 - accuracy: 0.3737 - val_loss: 1.4294 - val_accuracy: 0.3232\n",
            "Epoch 5/10\n",
            "938/938 [==============================] - 6s 6ms/step - loss: 1.3813 - accuracy: 0.3860 - val_loss: 1.4065 - val_accuracy: 0.3267\n",
            "Epoch 6/10\n",
            "938/938 [==============================] - 6s 6ms/step - loss: 1.3513 - accuracy: 0.3963 - val_loss: 1.3921 - val_accuracy: 0.3277\n",
            "Epoch 7/10\n",
            "938/938 [==============================] - 5s 6ms/step - loss: 1.3285 - accuracy: 0.4089 - val_loss: 1.3838 - val_accuracy: 0.3293\n",
            "Epoch 8/10\n",
            "938/938 [==============================] - 4s 5ms/step - loss: 1.3091 - accuracy: 0.4200 - val_loss: 1.3778 - val_accuracy: 0.3243\n",
            "Epoch 9/10\n",
            "938/938 [==============================] - 6s 6ms/step - loss: 1.2893 - accuracy: 0.4316 - val_loss: 1.3750 - val_accuracy: 0.3262\n",
            "Epoch 10/10\n",
            "938/938 [==============================] - 5s 6ms/step - loss: 1.2695 - accuracy: 0.4399 - val_loss: 1.3739 - val_accuracy: 0.3215\n"
          ]
        }
      ],
      "source": [
        "epochs = 10\n",
        "history = model.fit(\n",
        "    raw_train_ds,\n",
        "    validation_data=raw_val_ds,\n",
        "    epochs=epochs)"
      ]
    },
    {
      "cell_type": "code",
      "execution_count": 10,
      "metadata": {},
      "outputs": [],
      "source": [
        "model.save('sa_model.keras')"
      ]
    },
    {
      "cell_type": "code",
      "execution_count": 6,
      "metadata": {
        "colab": {
          "base_uri": "https://localhost:8080/"
        },
        "id": "8bw25oraBxZl",
        "outputId": "d3e77bf3-c2e3-49c6-9aba-8b26da6e5e60"
      },
      "outputs": [
        {
          "name": "stdout",
          "output_type": "stream",
          "text": [
            "938/938 [==============================] - 3s 3ms/step - loss: 1.3757 - accuracy: 0.3300\n",
            "Loss:  1.3757010698318481\n",
            "Accuracy:  0.32996734976768494\n"
          ]
        }
      ],
      "source": [
        "loss, accuracy = model.evaluate(raw_test_ds)\n",
        "\n",
        "print(\"Loss: \", loss)\n",
        "print(\"Accuracy: \", accuracy)"
      ]
    },
    {
      "cell_type": "code",
      "execution_count": 7,
      "metadata": {
        "colab": {
          "base_uri": "https://localhost:8080/",
          "height": 944
        },
        "id": "XecQnVBuDL_k",
        "outputId": "80fd7099-4701-4e4e-ce23-b81be46e7f88"
      },
      "outputs": [
        {
          "name": "stdout",
          "output_type": "stream",
          "text": [
            "dict_keys(['loss', 'accuracy', 'val_loss', 'val_accuracy'])\n"
          ]
        },
        {
          "data": {
            "image/png": "[encoded data removed]",
            "text/plain": [
              "<Figure size 640x480 with 1 Axes>"
            ]
          },
          "metadata": {},
          "output_type": "display_data"
        },
        {
          "data": {
            "image/png": "[encoded data removed]",
            "text/plain": [
              "<Figure size 640x480 with 1 Axes>"
            ]
          },
          "metadata": {},
          "output_type": "display_data"
        }
      ],
      "source": [
        "history_dict = history.history\n",
        "print(history_dict.keys())\n",
        "acc = history_dict['accuracy']\n",
        "val_acc = history_dict['val_accuracy']\n",
        "loss = history_dict['loss']\n",
        "val_loss = history_dict['val_loss']\n",
        "\n",
        "epochs = range(1, len(acc) + 1)\n",
        "\n",
        "# \"bo\" is for \"blue dot\"\n",
        "plt.plot(epochs, loss, 'bo', label='Training loss')\n",
        "# b is for \"solid blue line\"\n",
        "plt.plot(epochs, val_loss, 'b', label='Validation loss')\n",
        "plt.title('Training and validation loss')\n",
        "plt.xlabel('Epochs')\n",
        "plt.ylabel('Loss')\n",
        "plt.legend()\n",
        "\n",
        "plt.show()\n",
        "plt.plot(epochs, acc, 'bo', label='Training acc')\n",
        "plt.plot(epochs, val_acc, 'b', label='Validation acc')\n",
        "plt.title('Training and validation accuracy')\n",
        "plt.xlabel('Epochs')\n",
        "plt.ylabel('Accuracy')\n",
        "plt.legend(loc='lower right')\n",
        "\n",
        "plt.show()\n"
      ]
    },
    {
      "cell_type": "code",
      "execution_count": 11,
      "metadata": {
        "colab": {
          "base_uri": "https://localhost:8080/"
        },
        "id": "EHzItVMq_EbI",
        "outputId": "4911be9b-964b-4161-a505-a1d63da6f29d"
      },
      "outputs": [
        {
          "name": "stdout",
          "output_type": "stream",
          "text": [
            "1/1 [==============================] - 0s 59ms/step\n",
            "The sentiment is:5\n",
            "The sentiment is:1\n"
          ]
        }
      ],
      "source": [
        "examples = [\n",
        "  '''The quality of clothes here is appropriate. You know, when you need some denim jackets, jeans or other stuff, you can easily attend any affiliate of this company and buy whatever you want.\n",
        "    You will be happy about the apparel quality, however, it's not a top segment.\n",
        "    Still, this company continues to be irreplaceable for me in case I need to fill up by wardrobe.\n",
        "''',\n",
        "'''Disaster'''\n",
        "]\n",
        "l=list(model.predict(examples))\n",
        "x=0\n",
        "for i in l:\n",
        "  x+=1\n",
        "  i=list(i)\n",
        "  maxpos = i.index(max(i))\n",
        "  print(f\"The sentiment is:{(maxpos+1)}\")"
      ]
    }
  ],
  "metadata": {
    "colab": {
      "gpuType": "T4",
      "provenance": []
    },
    "kernelspec": {
      "display_name": "Python 3",
      "name": "python3"
    },
    "language_info": {
      "codemirror_mode": {
        "name": "ipython",
        "version": 3
      },
      "file_extension": ".py",
      "mimetype": "text/x-python",
      "name": "python",
      "nbconvert_exporter": "python",
      "pygments_lexer": "ipython3",
      "version": "3.11.8"
    }
  },
  "nbformat": 4,
  "nbformat_minor": 0
}
